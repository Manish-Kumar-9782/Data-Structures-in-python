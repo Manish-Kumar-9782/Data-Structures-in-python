{
 "cells": [
  {
   "cell_type": "markdown",
   "metadata": {},
   "source": [
    "## Generating random numbers function."
   ]
  },
  {
   "cell_type": "code",
   "execution_count": 15,
   "metadata": {},
   "outputs": [],
   "source": [
    "# Fisrt of all we need to generate some random set\n",
    "import random\n",
    "\n",
    "def gen_rand(start_range, end_range,set_length):\n",
    "    \n",
    "    \"\"\" This function will help us to create the random \n",
    "    numbers which we can use in some of the algorithm to test.\"\"\"\n",
    "    numbers=[]\n",
    "    \n",
    "    while(len(numbers)!=set_length):\n",
    "        \n",
    "        rnd = random.randint(start_range,end_range)\n",
    "        # this line will generate the singe random number and it will be stored in the rnd variable \n",
    "        \n",
    "        \n",
    "        if rnd not in numbers:\n",
    "        # Now if the number is not in the numbers list then it will add the rnd number in the numbers list\n",
    "        # if the rnd number is already present in the numbers list then we will not add it.\n",
    "            numbers.append(rnd)\n",
    "            \n",
    "    return numbers\n",
    "        \n",
    "        "
   ]
  },
  {
   "cell_type": "code",
   "execution_count": 91,
   "metadata": {},
   "outputs": [
    {
     "name": "stdout",
     "output_type": "stream",
     "text": [
      "[6, 8, 37, 47, 7, 13, 77, 57, 41, 92]\n"
     ]
    }
   ],
   "source": [
    "rand = gen_rand(1,100,10)\n",
    "print(rand)"
   ]
  },
  {
   "cell_type": "markdown",
   "metadata": {},
   "source": [
    "## 1. Find the largest number in the array."
   ]
  },
  {
   "cell_type": "code",
   "execution_count": 49,
   "metadata": {},
   "outputs": [],
   "source": [
    "def largest_number(array):\n",
    "    \"\"\"This function is used to find the largest number in the given array\"\"\"\n",
    "    largest=0\n",
    "    \n",
    "    for current in array:\n",
    "       \n",
    "        if current<largest:\n",
    "            pass\n",
    "        else:\n",
    "            print(current)\n",
    "            largest = current\n",
    "            \n",
    "    return largest\n",
    "        "
   ]
  },
  {
   "cell_type": "code",
   "execution_count": 50,
   "metadata": {},
   "outputs": [
    {
     "name": "stdout",
     "output_type": "stream",
     "text": [
      "51\n",
      "92\n"
     ]
    },
    {
     "data": {
      "text/plain": [
       "92"
      ]
     },
     "execution_count": 50,
     "metadata": {},
     "output_type": "execute_result"
    }
   ],
   "source": [
    "largest_number(rand)"
   ]
  },
  {
   "cell_type": "markdown",
   "metadata": {},
   "source": [
    "## 2. array rotation by one element"
   ]
  },
  {
   "cell_type": "code",
   "execution_count": 93,
   "metadata": {},
   "outputs": [],
   "source": [
    "def array_rotation_by_one(array):\n",
    "    \n",
    "    \"\"\" This function will rotate the one (first one) element and after rotating the elemet first element would \n",
    "    be at the last postion and the elements from second postion will shift from the ith location to 1-1 it means all \n",
    "    the elements will shift at the 'current position - 1'  \n",
    "    \n",
    "    In this algorithm we will rotate the all the elemet towards the left side.\n",
    "    this step will follow.\n",
    "    \n",
    "    1. first of all we will save over a[0] element in temp variable\n",
    "    2. Second we will swap all the element towards the left side by one.\n",
    "    3. Lastly we will put over temp variabel at the last postion a[-1].\n",
    "    \n",
    "    By this process we will rotate the array by one \n",
    "    \n",
    "    \n",
    "    \"\"\"\n",
    "    \n",
    "    # first we need itrate all over the array to rotate\n",
    "    # 1. now we need to move the first element into the temp\n",
    "    temp = array[0]\n",
    "    for i in range(len(array)-1):\n",
    "        \n",
    "        # 2. Now we need to swap the element which is next to the current element\n",
    "        array[i] = array[i+1] # Here the i is the current element and the i+1 is the next element to the next\n",
    "       \n",
    "        # 3. After swaping the current and next element we need to put the temp element at the last postion\n",
    "    array[-1] = temp\n",
    "    \n",
    "    "
   ]
  },
  {
   "cell_type": "code",
   "execution_count": 137,
   "metadata": {},
   "outputs": [],
   "source": [
    "rand = gen_rand(1,100,10)\n",
    "\n",
    "rand1 = rand"
   ]
  },
  {
   "cell_type": "code",
   "execution_count": 141,
   "metadata": {},
   "outputs": [
    {
     "name": "stdout",
     "output_type": "stream",
     "text": [
      "[32, 16, 68, 61, 77, 59, 95, 97, 26, 66]\n"
     ]
    }
   ],
   "source": [
    "rand1 = rand\n",
    "print(rand1)"
   ]
  },
  {
   "cell_type": "code",
   "execution_count": 142,
   "metadata": {},
   "outputs": [
    {
     "name": "stdout",
     "output_type": "stream",
     "text": [
      "[32, 16, 68, 61, 77, 59, 95, 97, 26, 66]\n"
     ]
    },
    {
     "ename": "TypeError",
     "evalue": "array_rotation_by_one() takes 1 positional argument but 2 were given",
     "output_type": "error",
     "traceback": [
      "\u001b[1;31m---------------------------------------------------------------------------\u001b[0m",
      "\u001b[1;31mTypeError\u001b[0m                                 Traceback (most recent call last)",
      "\u001b[1;32m<ipython-input-142-e2b6ec26092b>\u001b[0m in \u001b[0;36m<module>\u001b[1;34m\u001b[0m\n\u001b[0;32m      1\u001b[0m \u001b[0mprint\u001b[0m\u001b[1;33m(\u001b[0m\u001b[0mrand1\u001b[0m\u001b[1;33m)\u001b[0m\u001b[1;33m\u001b[0m\u001b[1;33m\u001b[0m\u001b[0m\n\u001b[1;32m----> 2\u001b[1;33m \u001b[0marray_rotation_by_one\u001b[0m\u001b[1;33m(\u001b[0m\u001b[0mrand1\u001b[0m\u001b[1;33m,\u001b[0m\u001b[1;36m4\u001b[0m\u001b[1;33m)\u001b[0m\u001b[1;33m\u001b[0m\u001b[1;33m\u001b[0m\u001b[0m\n\u001b[0m\u001b[0;32m      3\u001b[0m \u001b[0mprint\u001b[0m\u001b[1;33m(\u001b[0m\u001b[0mrand1\u001b[0m\u001b[1;33m)\u001b[0m\u001b[1;33m\u001b[0m\u001b[1;33m\u001b[0m\u001b[0m\n",
      "\u001b[1;31mTypeError\u001b[0m: array_rotation_by_one() takes 1 positional argument but 2 were given"
     ]
    }
   ],
   "source": [
    "print(rand1)\n",
    "array_rotation_by_one(rand1,4)\n",
    "print(rand1)"
   ]
  },
  {
   "cell_type": "markdown",
   "metadata": {},
   "source": [
    "## 2. Array rotation by the temp "
   ]
  },
  {
   "cell_type": "code",
   "execution_count": 145,
   "metadata": {},
   "outputs": [],
   "source": [
    "def array_rotation_by_temp(array, n_elements):\n",
    "    \n",
    "    \"\"\" This algorithm will use the temp array to store the some part of the original array and then shift the rest of\n",
    "    the array at the left side to the first index then put the rest array behind it\"\"\"\n",
    "    \n",
    "    # 1. first we will save the our first n_element to temp variable \n",
    "    temp = array[:n_elements]\n",
    "    \n",
    "    # 2. Now we wiil shift our main array to left after the n first element\n",
    "    array = array[n_elements:]\n",
    "    \n",
    "    # 3. Now we will put the temp at the last of the original array.\n",
    "    array += temp\n",
    "    \n",
    "    return array\n",
    "    "
   ]
  },
  {
   "cell_type": "code",
   "execution_count": 146,
   "metadata": {},
   "outputs": [
    {
     "name": "stdout",
     "output_type": "stream",
     "text": [
      "[32, 16, 68, 61, 77, 59, 95, 97, 26, 66]\n"
     ]
    }
   ],
   "source": [
    "rand1 = rand\n",
    "print(rand1)"
   ]
  },
  {
   "cell_type": "code",
   "execution_count": 147,
   "metadata": {},
   "outputs": [
    {
     "name": "stdout",
     "output_type": "stream",
     "text": [
      "[32, 16, 68, 61, 77, 59, 95, 97, 26, 66]\n"
     ]
    },
    {
     "data": {
      "text/plain": [
       "[77, 59, 95, 97, 26, 66, 32, 16, 68, 61]"
      ]
     },
     "execution_count": 147,
     "metadata": {},
     "output_type": "execute_result"
    }
   ],
   "source": [
    "print(rand1)\n",
    "\n",
    "array_rotation_by_temp(rand1,4)"
   ]
  },
  {
   "cell_type": "code",
   "execution_count": 119,
   "metadata": {},
   "outputs": [
    {
     "data": {
      "text/plain": [
       "[37, 47, 7, 13, 77]"
      ]
     },
     "execution_count": 119,
     "metadata": {},
     "output_type": "execute_result"
    }
   ],
   "source": [
    "rand[:5]"
   ]
  },
  {
   "cell_type": "code",
   "execution_count": 96,
   "metadata": {},
   "outputs": [
    {
     "ename": "SyntaxError",
     "evalue": "invalid syntax (<ipython-input-96-6d15842fc537>, line 9)",
     "output_type": "error",
     "traceback": [
      "\u001b[1;36m  File \u001b[1;32m\"<ipython-input-96-6d15842fc537>\"\u001b[1;36m, line \u001b[1;32m9\u001b[0m\n\u001b[1;33m    def lower\u001b[0m\n\u001b[1;37m             ^\u001b[0m\n\u001b[1;31mSyntaxError\u001b[0m\u001b[1;31m:\u001b[0m invalid syntax\n"
     ]
    }
   ],
   "source": [
    "class Myencryption:\n",
    "    \n",
    "    \n",
    "    \n",
    "    def __init__(self):\n",
    "        self.upper = [i for i in range()]\n",
    "        self.lower = []\n",
    "        \n",
    "    def lowerEncryption():\n",
    "        pass\n",
    "    \n",
    "    def upperEncryption():\n",
    "\n",
    "\n",
    "def MYencryption(String):\n",
    "    \n",
    "    upperLatter []\n",
    "    LowerLatter"
   ]
  }
 ],
 "metadata": {
  "kernelspec": {
   "display_name": "Python 3",
   "language": "python",
   "name": "python3"
  },
  "language_info": {
   "codemirror_mode": {
    "name": "ipython",
    "version": 3
   },
   "file_extension": ".py",
   "mimetype": "text/x-python",
   "name": "python",
   "nbconvert_exporter": "python",
   "pygments_lexer": "ipython3",
   "version": "3.8.3"
  }
 },
 "nbformat": 4,
 "nbformat_minor": 4
}
